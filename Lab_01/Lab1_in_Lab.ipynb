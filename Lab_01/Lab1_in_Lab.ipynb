{
 "metadata": {
  "language_info": {
   "codemirror_mode": {
    "name": "ipython",
    "version": 3
   },
   "file_extension": ".py",
   "mimetype": "text/x-python",
   "name": "python",
   "nbconvert_exporter": "python",
   "pygments_lexer": "ipython3",
   "version": 3
  },
  "orig_nbformat": 2
 },
 "nbformat": 4,
 "nbformat_minor": 2,
 "cells": [
  {
   "cell_type": "code",
   "execution_count": null,
   "metadata": {},
   "outputs": [],
   "source": [
    "\n",
    "import numpy as np\n",
    "import matplotlib.pyplot as plt\n",
    "from Functions import *\n",
    "import math as math\n",
    "import pandas as pd"
   ]
  },
  {
   "cell_type": "code",
   "execution_count": null,
   "metadata": {},
   "outputs": [],
   "source": [
    "background = 220\n",
    "b_object = 230\n",
    "moving = 2\n",
    "square_img = np.ones((400,400)) * background\n",
    "for i in range (0,10):\n",
    "    square_img[150:250,150:250] = b_object-i*moving\n",
    "    ShowGrayImg(square_img)\n",
    "    n, bins, patches = plt.hist(square_img.ravel(), bins = [i for i in range(0,255)], facecolor='blue', alpha=0.5,stacked=True)\n",
    "    Cw = ((b_object-i*moving)-background)/background\n",
    "    plt.title(f\"cw is {Cw}\")\n",
    "    plt.show()"
   ]
  }
 ]
}